{
 "cells": [
  {
   "cell_type": "markdown",
   "metadata": {},
   "source": [
    "Copyright (c) 2019 [Hasan Dayoub](https://www.linkedin.com/in/hasan-dayoub-853845108/)\n",
    "\n",
    "https://github.com/HassanDayoub/Python-for-Machine-Learning-Deep-Learning-and-Data-Science-\n",
    "\n",
    "[MIT License](https://github.com/HassanDayoub/Python-for-Machine-Learning-Deep-Learning-and-Data-Science-/blob/master/LICENSE.txt)\n"
   ]
  },
  {
   "cell_type": "markdown",
   "metadata": {},
   "source": [
    "<br>\n",
    "\n",
    "\n",
    "</br>"
   ]
  },
  {
   "cell_type": "markdown",
   "metadata": {},
   "source": [
    "# Functions"
   ]
  },
  {
   "cell_type": "markdown",
   "metadata": {},
   "source": [
    "You’re already familiar with the print(),input(), and len() functions from the previous\n",
    "chapters. Python provides several builtin functions like these, but you can also write\n",
    "your own functions. A function is like a mini-program within a program."
   ]
  },
  {
   "cell_type": "markdown",
   "metadata": {},
   "source": [
    "To better understand how functions work, let’s create one."
   ]
  },
  {
   "cell_type": "code",
   "execution_count": 1,
   "metadata": {},
   "outputs": [],
   "source": [
    "def hello():\n",
    "    print('Howdy!')\n",
    "    print('Howdy!!!')\n",
    "    print('Hello there.')"
   ]
  },
  {
   "cell_type": "code",
   "execution_count": null,
   "metadata": {},
   "outputs": [],
   "source": [
    "hello()"
   ]
  },
  {
   "cell_type": "markdown",
   "metadata": {},
   "source": [
    "Function is python : \n",
    "- Header \n",
    "- statement\n",
    "- calling the function"
   ]
  },
  {
   "cell_type": "code",
   "execution_count": 1,
   "metadata": {},
   "outputs": [
    {
     "ename": "NameError",
     "evalue": "name 'inner' is not defined",
     "output_type": "error",
     "traceback": [
      "\u001b[1;31m---------------------------------------------------------------------------\u001b[0m",
      "\u001b[1;31mNameError\u001b[0m                                 Traceback (most recent call last)",
      "\u001b[1;32m<ipython-input-1-b109b735b859>\u001b[0m in \u001b[0;36m<module>\u001b[1;34m()\u001b[0m\n\u001b[0;32m      3\u001b[0m         \u001b[0mprint\u001b[0m \u001b[1;33m(\u001b[0m\u001b[0mstr\u001b[0m\u001b[1;33m(\u001b[0m\u001b[0mx\u001b[0m\u001b[1;33m)\u001b[0m\u001b[1;33m)\u001b[0m\u001b[1;33m\u001b[0m\u001b[0m\n\u001b[0;32m      4\u001b[0m \u001b[1;33m\u001b[0m\u001b[0m\n\u001b[1;32m----> 5\u001b[1;33m \u001b[0minner\u001b[0m \u001b[1;33m(\u001b[0m\u001b[1;36m10\u001b[0m\u001b[1;33m)\u001b[0m\u001b[1;33m\u001b[0m\u001b[0m\n\u001b[0m",
      "\u001b[1;31mNameError\u001b[0m: name 'inner' is not defined"
     ]
    }
   ],
   "source": [
    "def outer ():\n",
    "    def inner(x):\n",
    "        print (str(x))\n",
    "        \n",
    "inner (10)"
   ]
  },
  {
   "cell_type": "markdown",
   "metadata": {},
   "source": [
    "## def Statements with Parameters"
   ]
  },
  {
   "cell_type": "markdown",
   "metadata": {},
   "source": [
    "When you call the print() or len() function, you pass in values, called arguments\n",
    "in this context, by typing them between the parentheses. You can also\n",
    "define your own functions that accept arguments."
   ]
  },
  {
   "cell_type": "code",
   "execution_count": null,
   "metadata": {},
   "outputs": [],
   "source": [
    "def hello(name):\n",
    "    print('Hello ' + name)\n",
    "\n",
    "hello('hasan')\n",
    "hello('walaa')"
   ]
  },
  {
   "cell_type": "markdown",
   "metadata": {},
   "source": [
    "## Return Values and return Statements"
   ]
  },
  {
   "cell_type": "markdown",
   "metadata": {},
   "source": [
    "When you call the len() function and pass it an argument such as 'Hello',\n",
    "the function call evaluates to the integer value 5, which is the length of the\n",
    "string you passed it. In general, the value that a function call evaluates to is\n",
    "called the return value of the function.\n",
    "When creating a function using the def statement, you can specify what\n",
    "the return value should be with a return statement. A return statement consists\n",
    "of the following:\n",
    "\n",
    "- The return keyword\n",
    "- The value or expression that the function should return"
   ]
  },
  {
   "cell_type": "markdown",
   "metadata": {},
   "source": [
    "When an expression is used with a return statement, the return value\n",
    "is what this expression evaluates to. For example, the following program\n",
    "defines a function that returns a different string depending on what number\n",
    "it is passed as an argument."
   ]
  },
  {
   "cell_type": "code",
   "execution_count": null,
   "metadata": {},
   "outputs": [],
   "source": [
    "import random\n",
    "def getAnswer(answerNumber):\n",
    "    if answerNumber == 1:\n",
    "        return 'It is certain'\n",
    "    elif answerNumber == 2:\n",
    "        return 'It is decidedly so'\n",
    "    elif answerNumber == 3:\n",
    "        return 'Yes'\n",
    "    elif answerNumber == 4:\n",
    "        return 'Reply hazy try again'\n",
    "    elif answerNumber == 5:\n",
    "        return 'Ask again later'\n",
    "    elif answerNumber == 6:\n",
    "        return 'Concentrate and ask again'\n",
    "    elif answerNumber == 7:\n",
    "        return 'My reply is no'\n",
    "    elif answerNumber == 8:\n",
    "        return 'Outlook not so good'\n",
    "    elif answerNumber == 9:\n",
    "        return 'Very doubtful'\n",
    "r = random.randint(1, 9)\n",
    "fortune = getAnswer(r)\n",
    "print(fortune)"
   ]
  },
  {
   "cell_type": "markdown",
   "metadata": {},
   "source": [
    "## The None Value"
   ]
  },
  {
   "cell_type": "markdown",
   "metadata": {},
   "source": [
    "In Python there is a value called None, which represents the absence of a\n",
    "value. None is the only value of the NoneType data type. (Other programming\n",
    "languages might call this value null, nil, or undefined.) Just like the Boolean\n",
    "True and False values, None must be typed with a capital N.\n",
    "\n",
    "This value-without-a-value can be helpful when you need to store something\n",
    "that won’t be confused for a real value in a variable. One place where\n",
    "None is used is as the return value of print(). The print() function displays\n",
    "text on the screen, but it doesn’t need to return anything in the same way\n",
    "len() or input() does. But since all function calls need to evaluate to a return\n",
    "value, print() returns None."
   ]
  },
  {
   "cell_type": "code",
   "execution_count": null,
   "metadata": {},
   "outputs": [],
   "source": [
    "msg = print('Hello')"
   ]
  },
  {
   "cell_type": "code",
   "execution_count": null,
   "metadata": {},
   "outputs": [],
   "source": [
    "print(msg)"
   ]
  },
  {
   "cell_type": "markdown",
   "metadata": {},
   "source": [
    "## Keyword Arguments and print()"
   ]
  },
  {
   "cell_type": "markdown",
   "metadata": {},
   "source": [
    "The two strings appear on separate lines because the print() function\n",
    "automatically adds a newline character to the end of the string it is passed.\n",
    "However, you can set the end keyword argument to change this to a different\n",
    "string. For example, if the program were this:"
   ]
  },
  {
   "cell_type": "code",
   "execution_count": null,
   "metadata": {},
   "outputs": [],
   "source": [
    "print('Hello', end='')\n",
    "print('World')"
   ]
  },
  {
   "cell_type": "markdown",
   "metadata": {},
   "source": [
    "But you could replace the default separating string by passing the sep\n",
    "keyword argument."
   ]
  },
  {
   "cell_type": "code",
   "execution_count": null,
   "metadata": {},
   "outputs": [],
   "source": [
    "print('cats', 'dogs', 'mice', sep=',')"
   ]
  },
  {
   "cell_type": "markdown",
   "metadata": {},
   "source": [
    "## Local and Global Scope"
   ]
  },
  {
   "cell_type": "markdown",
   "metadata": {},
   "source": [
    "Parameters and variables that are assigned in a called function are said\n",
    "to exist in that function’s local scope. Variables that are assigned outside all\n",
    "functions are said to exist in the global scope. A variable that exists in a local\n",
    "scope is called a local variable, while a variable that exists in the global scope\n",
    "is called a global variable. A variable must be one or the other; it cannot be\n",
    "both local and global.\n",
    "Think of a scope as a container for variables. When a scope is destroyed,\n",
    "all the values stored in the scope’s variables are forgotten. There is only one\n",
    "global scope, and it is created when your program begins. When your program\n",
    "terminates, the global scope is destroyed, and all its variables are forgotten.\n",
    "Otherwise, the next time you ran your program, the variables would\n",
    "remember their values from the last time you ran it.\n",
    "A local scope is created whenever a function is called. Any variables\n",
    "assigned in this function exist within the local scope. When the function\n",
    "returns, the local scope is destroyed, and these variables are forgotten. The\n",
    "next time you call this function, the local variables will not remember the\n",
    "values stored in them from the last time the function was called."
   ]
  },
  {
   "cell_type": "markdown",
   "metadata": {},
   "source": [
    "Scopes matter for several reasons:\n",
    "- Code in the global scope cannot use any local variables.\n",
    "- However, a local scope can access global variables.\n",
    "- Code in a function’s local scope cannot use variables in any other\n",
    "  local scope.\n",
    "- You can use the same name for different variables if they are in different\n",
    "scopes. That is, there can be a local variable named spam and a\n",
    "global variable also named spam."
   ]
  },
  {
   "cell_type": "markdown",
   "metadata": {},
   "source": [
    "### 1- Local Variables Cannot Be Used in the Global Scope"
   ]
  },
  {
   "cell_type": "markdown",
   "metadata": {},
   "source": [
    "Consider this program, which will cause an error when you run it:"
   ]
  },
  {
   "cell_type": "code",
   "execution_count": null,
   "metadata": {},
   "outputs": [],
   "source": [
    "def spam():\n",
    "    eggs = 31337\n",
    "spam()\n",
    "print(eggs)"
   ]
  },
  {
   "cell_type": "markdown",
   "metadata": {},
   "source": [
    "The error happens because the eggs variable exists only in the local\n",
    "scope created when spam() is called."
   ]
  },
  {
   "cell_type": "markdown",
   "metadata": {},
   "source": [
    "### 2- Local Scopes Cannot Use Variables in Other Local Scopes"
   ]
  },
  {
   "cell_type": "markdown",
   "metadata": {},
   "source": [
    "A new local scope is created whenever a function is called, including when a\n",
    "function is called from another function. Consider this program:"
   ]
  },
  {
   "cell_type": "code",
   "execution_count": 1,
   "metadata": {},
   "outputs": [
    {
     "name": "stdout",
     "output_type": "stream",
     "text": [
      "99\n"
     ]
    }
   ],
   "source": [
    "def spam():\n",
    "    eggs = 99\n",
    "    bacon()\n",
    "    print(eggs)\n",
    "    \n",
    "def bacon():\n",
    "    ham = 101\n",
    "    eggs = 0\n",
    "    \n",
    "spam()"
   ]
  },
  {
   "cell_type": "markdown",
   "metadata": {},
   "source": [
    "### 3- Global Variables Can Be Read from a Local Scope"
   ]
  },
  {
   "cell_type": "markdown",
   "metadata": {},
   "source": [
    "Consider the following program:"
   ]
  },
  {
   "cell_type": "code",
   "execution_count": null,
   "metadata": {},
   "outputs": [],
   "source": [
    "def spam():\n",
    "    print(eggs)\n",
    "eggs = 42\n",
    "spam()\n",
    "print(eggs)"
   ]
  },
  {
   "cell_type": "markdown",
   "metadata": {},
   "source": [
    "Since there is no parameter named eggs or any code that assigns eggs a\n",
    "value in the spam() function, when eggs is used in spam(), Python considers\n",
    "it a reference to the global variable eggs. This is why 42 is printed when the\n",
    "previous program is run."
   ]
  },
  {
   "cell_type": "markdown",
   "metadata": {},
   "source": [
    "### 4- Local and Global Variables with the Same Name"
   ]
  },
  {
   "cell_type": "code",
   "execution_count": null,
   "metadata": {},
   "outputs": [],
   "source": [
    "def spam():\n",
    "    eggs = 'spam local'\n",
    "    print(eggs) # prints 'spam local'\n",
    "def bacon():\n",
    "    eggs = 'bacon local'\n",
    "    print(eggs) # prints 'bacon local'\n",
    "    spam()\n",
    "    print(eggs) # prints 'bacon local'\n",
    "eggs = 'global'\n",
    "bacon()\n",
    "print(eggs)"
   ]
  },
  {
   "cell_type": "markdown",
   "metadata": {},
   "source": [
    "There are actually three different variables in this program, but confusingly\n",
    "they are all named eggs. The variables are as follows:\n",
    "\n",
    "- A variable named eggs that exists in a local scope when spam() is called.\n",
    "- A variable named eggs that exists in a local scope when bacon() is called.\n",
    "- A variable named eggs that exists in the global scope"
   ]
  },
  {
   "cell_type": "markdown",
   "metadata": {},
   "source": [
    "Since these three separate variables all have the same name, it can be\n",
    "confusing to keep track of which one is being used at any given time. This is\n",
    "why you should avoid using the same variable name in different scopes."
   ]
  },
  {
   "cell_type": "markdown",
   "metadata": {},
   "source": [
    "## The global Statement"
   ]
  },
  {
   "cell_type": "markdown",
   "metadata": {},
   "source": [
    "If you need to modify a global variable from within a function, use the ***global***\n",
    "statement. If you have a line such as global eggs at the top of a function,\n",
    "it tells Python, “In this function, eggs refers to the global variable, so don’t\n",
    "create a local variable with this name."
   ]
  },
  {
   "cell_type": "code",
   "execution_count": null,
   "metadata": {},
   "outputs": [],
   "source": [
    "def spam():\n",
    "    global eggs\n",
    "    eggs = 'spam'\n",
    "eggs = 'global'\n",
    "spam()\n",
    "print(eggs)"
   ]
  },
  {
   "cell_type": "markdown",
   "metadata": {},
   "source": [
    "There are four rules to tell whether a variable is in a local scope or\n",
    "global scope:\n",
    "\n",
    "1. If a variable is being used in the global scope (that is, outside of all\n",
    "functions), then it is always a global variable.\n",
    "2. If there is a global statement for that variable in a function, it is a global\n",
    "variable.\n",
    "3. Otherwise, if the variable is used in an assignment statement in the\n",
    "function, it is a local variable.\n",
    "4. But if the variable is not used in an assignment statement, it is a global\n",
    "variable."
   ]
  },
  {
   "cell_type": "code",
   "execution_count": null,
   "metadata": {},
   "outputs": [],
   "source": [
    "    "
   ]
  },
  {
   "cell_type": "markdown",
   "metadata": {},
   "source": [
    "## Exception Handling"
   ]
  },
  {
   "cell_type": "markdown",
   "metadata": {},
   "source": [
    "Right now, getting an error, or ***exception****, in your Python program means the\n",
    "entire program will crash. You don’t want this to happen in real-world programs.\n",
    "Instead, you want the program to detect errors, handle them, and\n",
    "then continue to run.\n",
    "For example, consider the following program, which has a “divide-byzero”\n",
    "error."
   ]
  },
  {
   "cell_type": "code",
   "execution_count": null,
   "metadata": {},
   "outputs": [],
   "source": [
    "def spam(divideBy):\n",
    "    return 42 / divideBy\n",
    "print(spam(2))\n",
    "print(spam(12))\n",
    "print(spam(0))\n",
    "print(spam(1))"
   ]
  },
  {
   "cell_type": "markdown",
   "metadata": {},
   "source": [
    "We’ve defined a function called spam, given it a parameter, and then\n",
    "printed the value of that function with various parameters to see what happens.\n",
    "\n",
    "A ZeroDivisionError happens whenever you try to divide a number by\n",
    "zero. From the line number given in the error message, you know that the\n",
    "return statement in spam() is causing an error.\n",
    "\n",
    "Errors can be handled with ***try*** and ***except*** statements. The code that\n",
    "could potentially have an error is put in a try clause. The program execution\n",
    "moves to the start of a following except clause if an error happens.\n",
    "You can put the previous divide-by-zero code in a try clause and have\n",
    "an except clause contain code to handle what happens when this error occurs."
   ]
  },
  {
   "cell_type": "code",
   "execution_count": null,
   "metadata": {},
   "outputs": [],
   "source": [
    "def spam(divideBy):\n",
    "    try:\n",
    "        return 42 / divideBy\n",
    "    except ZeroDivisionError:\n",
    "        print('Error: Invalid argument.')\n",
    "\n",
    "print(spam(2))\n",
    "print(spam(12))\n",
    "print(spam(0))\n",
    "print(spam(1))"
   ]
  },
  {
   "cell_type": "markdown",
   "metadata": {},
   "source": [
    "When code in a try clause causes an error, the program execution\n",
    "immediately moves to the code in the except clause. After running that\n",
    "code, the execution continues as normal.\n",
    "\n",
    "Note that any errors that occur in function calls in a try block will also\n",
    "be caught. Consider the following program, which instead has the spam()\n",
    "calls in the try block:"
   ]
  },
  {
   "cell_type": "code",
   "execution_count": null,
   "metadata": {},
   "outputs": [],
   "source": [
    "def spam(divideBy):\n",
    "    return 42 / divideBy\n",
    "try:\n",
    "    print(spam(2))\n",
    "    print(spam(12))\n",
    "    print(spam(0))\n",
    "    print(spam(1))\n",
    "except ZeroDivisionError:\n",
    "    print('Error: Invalid argument.')"
   ]
  },
  {
   "cell_type": "markdown",
   "metadata": {},
   "source": [
    "The reason print(spam(1)) is never executed is because once the execution\n",
    "jumps to the code in the except clause, it does not return to the try\n",
    "clause. Instead, it just continues moving down as normal."
   ]
  },
  {
   "cell_type": "markdown",
   "metadata": {},
   "source": [
    "# ***Quiz*** "
   ]
  },
  {
   "cell_type": "markdown",
   "metadata": {},
   "source": [
    "### A Short Program: Guess the Number"
   ]
  },
  {
   "cell_type": "markdown",
   "metadata": {},
   "source": [
    "The toy examples I’ve show you so far are useful for introducing basic concepts,\n",
    "but now let’s see how everything you’ve learned comes together in a\n",
    "more complete program. In this section, I’ll show you a simple “guess the\n",
    "number” game. When you run this program, the output will look something\n",
    "like this:"
   ]
  },
  {
   "cell_type": "code",
   "execution_count": null,
   "metadata": {},
   "outputs": [],
   "source": [
    "'''\n",
    "I am thinking of a number between 1 and 20.\n",
    "Take a guess.\n",
    "10\n",
    "Your guess is too low.\n",
    "Take a guess.\n",
    "15\n",
    "Your guess is too low.\n",
    "Take a guess.\n",
    "17\n",
    "Your guess is too high.\n",
    "Take a guess.\n",
    "16\n",
    "Good job! You guessed my number in 4 guesses!\n",
    "'''"
   ]
  },
  {
   "cell_type": "markdown",
   "metadata": {},
   "source": [
    "### Practice Questions"
   ]
  },
  {
   "cell_type": "markdown",
   "metadata": {},
   "source": [
    "1. Why are functions advantageous to have in your programs?\n",
    "\n",
    "2. When does the code in a function execute: when the function is\n",
    "defined or when the function is called?\n",
    "\n",
    "3. What statement creates a function?\n",
    "\n",
    "4. What is the difference between a function and a function call?\n",
    "\n",
    "5. How many global scopes are there in a Python program? How many\n",
    "local scopes?\n",
    "\n",
    "6. What happens to variables in a local scope when the function call returns?\n",
    "\n",
    "7. What is a return value? Can a return value be part of an expression?\n",
    "\n",
    "8. If a function does not have a return statement, what is the return value\n",
    "of a call to that function?\n",
    "\n",
    "9. How can you force a variable in a function to refer to the global variable?\n",
    "\n",
    "10. What is the data type of None?\n",
    "\n",
    "11. What does the import areallyourpetsnamederic statement do?\n",
    "\n",
    "12. If you had a function named bacon() in a module named spam, how\n",
    "would you call it after importing spam?\n",
    "\n",
    "13. How can you prevent a program from crashing when it gets an error?\n",
    "\n",
    "14. What goes in the try clause? What goes in the except clause?\n"
   ]
  },
  {
   "cell_type": "code",
   "execution_count": null,
   "metadata": {},
   "outputs": [],
   "source": []
  }
 ],
 "metadata": {
  "kernelspec": {
   "display_name": "Python 3",
   "language": "python",
   "name": "python3"
  },
  "language_info": {
   "codemirror_mode": {
    "name": "ipython",
    "version": 3
   },
   "file_extension": ".py",
   "mimetype": "text/x-python",
   "name": "python",
   "nbconvert_exporter": "python",
   "pygments_lexer": "ipython3",
   "version": "3.6.6"
  }
 },
 "nbformat": 4,
 "nbformat_minor": 2
}
